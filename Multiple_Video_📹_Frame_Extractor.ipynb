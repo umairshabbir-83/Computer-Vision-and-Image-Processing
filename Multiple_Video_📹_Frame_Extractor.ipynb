{
  "cells": [
    {
      "cell_type": "markdown",
      "metadata": {
        "id": "bq2DSPfMn_K5"
      },
      "source": [
        "# **Importing All Necessary Libraries**\n"
      ]
    },
    {
      "cell_type": "code",
      "execution_count": null,
      "metadata": {
        "colab": {
          "base_uri": "https://localhost:8080/"
        },
        "id": "sBP1_fH3mz9z",
        "outputId": "1f2ca91b-bf1c-4493-835f-83c2be148a77"
      },
      "outputs": [],
      "source": [
        "import cv2\n",
        "import glob\n",
        "from google.colab import drive\n",
        "import os\n",
        "\n",
        "drive.mount(\"/content/drive\")\n"
      ]
    },
    {
      "cell_type": "markdown",
      "metadata": {
        "id": "we2l9Mv5y02E"
      },
      "source": [
        "# **Getting Folder 📂**\n"
      ]
    },
    {
      "cell_type": "code",
      "execution_count": null,
      "metadata": {
        "id": "d3pr7XiKy67i"
      },
      "outputs": [],
      "source": [
        "folder = glob.glob(\"/content/drive/MyDrive/Dataset Collection/Newly Created/1\")\n"
      ]
    },
    {
      "cell_type": "markdown",
      "metadata": {
        "id": "h4FWsrMyzujF"
      },
      "source": [
        "# Getting Video 📹 List 📃\n"
      ]
    },
    {
      "cell_type": "code",
      "execution_count": null,
      "metadata": {
        "colab": {
          "base_uri": "https://localhost:8080/"
        },
        "id": "iR3aB-Rcz1Yg",
        "outputId": "02a4f379-8af7-4be7-f7bb-f39371ef2e81"
      },
      "outputs": [],
      "source": [
        "video_list = []\n",
        "for i in folder:\n",
        "    for j in glob.glob(i + \"/*.mp4\"):\n",
        "        video_list.append(j)\n",
        "        print(j)\n"
      ]
    },
    {
      "cell_type": "markdown",
      "metadata": {
        "id": "hc-BA-iIo3U5"
      },
      "source": [
        "# **Creating Output Folder 📂**\n"
      ]
    },
    {
      "cell_type": "code",
      "execution_count": null,
      "metadata": {
        "id": "JqF7KHPIpAzZ"
      },
      "outputs": [],
      "source": [
        "try:\n",
        "    if not os.path.exists(\"/content/drive/MyDrive/Dataset Collection/FramesOUT\"):\n",
        "        os.makedirs(\"/content/drive/MyDrive/Dataset Collection/FramesOUT\")\n",
        "except OSError:\n",
        "    print(\"ERROR: DIRECTORY NOT FOUND!\")\n"
      ]
    },
    {
      "cell_type": "markdown",
      "metadata": {
        "id": "VJ1tBzzAqNGr"
      },
      "source": [
        "# **Extracting Frames**\n"
      ]
    },
    {
      "cell_type": "code",
      "execution_count": null,
      "metadata": {
        "colab": {
          "base_uri": "https://localhost:8080/"
        },
        "id": "h5Z4eYJRqYnR",
        "outputId": "49f3149d-f216-4dbf-9abc-04565f93e488"
      },
      "outputs": [],
      "source": [
        "counter = 0\n",
        "for i in video_list:\n",
        "    cap = cv2.VideoCapture(i)\n",
        "    while cap.isOpened():\n",
        "        ret, frame = cap.read()\n",
        "        if ret == True:\n",
        "            cv2.imwrite(\n",
        "                \"/content/drive/MyDrive/Dataset Collection/FramesOUT/Frame.\"\n",
        "                + str(counter)\n",
        "                + \".jpg\",\n",
        "                frame,\n",
        "            )\n",
        "            counter += 1\n",
        "        else:\n",
        "            break\n",
        "    # When everything done, release the capture\n",
        "    cap.release()\n",
        "    cv2.destroyAllWindows()\n",
        "print(\"Total Frames:\", counter)\n"
      ]
    }
  ],
  "metadata": {
    "colab": {
      "collapsed_sections": [],
      "provenance": []
    },
    "kernelspec": {
      "display_name": "Python 3",
      "name": "python3"
    },
    "language_info": {
      "name": "python"
    }
  },
  "nbformat": 4,
  "nbformat_minor": 0
}
