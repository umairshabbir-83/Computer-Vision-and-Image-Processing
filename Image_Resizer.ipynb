{
  "cells": [
    {
      "cell_type": "markdown",
      "metadata": {
        "id": "slB3tIxNC415"
      },
      "source": [
        "# **Imported all Necessary Libraries**\n"
      ]
    },
    {
      "cell_type": "code",
      "execution_count": null,
      "metadata": {
        "id": "urOg4Fbt52MG"
      },
      "outputs": [],
      "source": [
        "import cv2\n",
        "import glob\n",
        "from google.colab import drive\n",
        "import os\n",
        "\n",
        "drive.mount(\"/content/drive\")\n"
      ]
    },
    {
      "cell_type": "markdown",
      "metadata": {
        "id": "MDnWxov1DGa4"
      },
      "source": [
        "# **Getting Input Folder 📂**\n"
      ]
    },
    {
      "cell_type": "code",
      "execution_count": null,
      "metadata": {
        "id": "25w559fa6P2p"
      },
      "outputs": [],
      "source": [
        "folder = glob.glob(\"/content/drive/MyDrive/Dataset Collection/FramesOUT\")\n"
      ]
    },
    {
      "cell_type": "markdown",
      "metadata": {
        "id": "15Nj5DHFDwr5"
      },
      "source": [
        "# **Getting Size of the Input Folder 📂**\n"
      ]
    },
    {
      "cell_type": "code",
      "execution_count": null,
      "metadata": {
        "id": "DRzotDuR8JmH"
      },
      "outputs": [],
      "source": [
        "total_size = 0\n",
        "for dirpath, dirnames, filenames in os.walk(\n",
        "    \"/content/drive/MyDrive/Dataset Collection/FramesOUT\"\n",
        "):\n",
        "    for f in filenames:\n",
        "        fp = os.path.join(dirpath, f)\n",
        "        total_size += os.path.getsize(fp)\n",
        "print(\"Folder size: \" + str(total_size) + \" bytes\")\n"
      ]
    },
    {
      "cell_type": "markdown",
      "metadata": {
        "id": "nReog6WeDgqj"
      },
      "source": [
        "# **Getting Input Files 📂**\n"
      ]
    },
    {
      "cell_type": "code",
      "execution_count": null,
      "metadata": {
        "id": "YjLkMX1U6rD4"
      },
      "outputs": [],
      "source": [
        "frames_list = []\n",
        "for i in folder:\n",
        "    for j in glob.glob(i + \"/*.jpg\"):\n",
        "        frames_list.append(j)\n",
        "print(\"Total number of frames: \", len(frames_list))\n"
      ]
    },
    {
      "cell_type": "markdown",
      "metadata": {
        "id": "xihmKEGEDo6I"
      },
      "source": [
        "# **Locating Output Folder 📂**\n"
      ]
    },
    {
      "cell_type": "code",
      "execution_count": null,
      "metadata": {
        "id": "euDSHprm6aYS"
      },
      "outputs": [],
      "source": [
        "try:\n",
        "    if not os.path.exists(\"/content/drive/MyDrive/Dataset Collection/Resized\"):\n",
        "        os.makedirs(\"/content/drive/MyDrive/Dataset Collection/Resized\")\n",
        "except OSError:\n",
        "    print(\"ERROR: DIRECTORY NOT FOUND!\")\n"
      ]
    },
    {
      "cell_type": "markdown",
      "metadata": {
        "id": "VkNDcCxjD67a"
      },
      "source": [
        "# **Resizing Frames**\n"
      ]
    },
    {
      "cell_type": "code",
      "execution_count": null,
      "metadata": {
        "id": "ysxi9fTG-1Lk"
      },
      "outputs": [],
      "source": [
        "counter = 0\n",
        "for i in frames_list:\n",
        "    img = cv2.imread(i, -1)\n",
        "    resized = cv2.resize(img, (224, 224))\n",
        "    cv2.imwrite(\n",
        "        \"/content/drive/MyDrive/Dataset Collection/Resized/Frame.\"\n",
        "        + str(counter)\n",
        "        + \".jpg\",\n",
        "        resized,\n",
        "    )\n",
        "    counter += 1\n"
      ]
    },
    {
      "cell_type": "markdown",
      "metadata": {
        "id": "iaKOv696ECao"
      },
      "source": [
        "# **Getting Size of the Output Folder 📂**\n"
      ]
    },
    {
      "cell_type": "code",
      "execution_count": null,
      "metadata": {
        "id": "j4IlfsFDAMJw"
      },
      "outputs": [],
      "source": [
        "total_size = 0\n",
        "for dirpath, dirnames, filenames in os.walk(\n",
        "    \"/content/drive/MyDrive/Dataset Collection/Resized\"\n",
        "):\n",
        "    for f in filenames:\n",
        "        fp = os.path.join(dirpath, f)\n",
        "        total_size += os.path.getsize(fp)\n",
        "print(\"Folder size: \" + str(total_size) + \" bytes\")\n"
      ]
    }
  ],
  "metadata": {
    "colab": {
      "collapsed_sections": [],
      "provenance": []
    },
    "kernelspec": {
      "display_name": "Python 3.10.7 64-bit (microsoft store)",
      "language": "python",
      "name": "python3"
    },
    "language_info": {
      "name": "python",
      "version": "3.10.7"
    },
    "vscode": {
      "interpreter": {
        "hash": "7e6ae8bbc6f4396967175c811213416fe69a8fa78657a81ea9bbe01452733f4e"
      }
    }
  },
  "nbformat": 4,
  "nbformat_minor": 0
}
